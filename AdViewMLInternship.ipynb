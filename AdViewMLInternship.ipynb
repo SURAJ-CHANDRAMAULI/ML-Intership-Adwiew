{
  "nbformat": 4,
  "nbformat_minor": 0,
  "metadata": {
    "colab": {
      "name": "AdViewMLInternship.ipynb",
      "provenance": [],
      "include_colab_link": true
    },
    "kernelspec": {
      "display_name": "Python 3",
      "language": "python",
      "name": "python3"
    },
    "language_info": {
      "codemirror_mode": {
        "name": "ipython",
        "version": 3
      },
      "file_extension": ".py",
      "mimetype": "text/x-python",
      "name": "python",
      "nbconvert_exporter": "python",
      "pygments_lexer": "ipython3",
      "version": "3.9.0"
    }
  },
  "cells": [
    {
      "cell_type": "markdown",
      "metadata": {
        "id": "view-in-github",
        "colab_type": "text"
      },
      "source": [
        "<a href=\"https://colab.research.google.com/github/SURAJ-CHANDRAMAULI/ML-Intership-Adwiew/blob/main/AdViewMLInternship.ipynb\" target=\"_parent\"><img src=\"https://colab.research.google.com/assets/colab-badge.svg\" alt=\"Open In Colab\"/></a>"
      ]
    },
    {
      "cell_type": "code",
      "metadata": {
        "id": "zrZoj2Z6RoFg"
      },
      "source": [
        "import pandas as pd\n",
        "import numpy as np\n",
        "import matplotlib.pyplot as plt\n",
        "%matplotlib inline"
      ],
      "execution_count": null,
      "outputs": []
    },
    {
      "cell_type": "markdown",
      "metadata": {
        "id": "CJYVHz1fZfBF"
      },
      "source": [
        "## Loading csv file(Adview.csv)"
      ]
    },
    {
      "cell_type": "code",
      "metadata": {
        "id": "DLeTpD2SrQ7h"
      },
      "source": [
        "!pip install -U -q PyDrive\n",
        "from pydrive.auth import GoogleAuth\n",
        "from pydrive.drive import GoogleDrive\n",
        "from google.colab import auth\n",
        "from oauth2client.client import GoogleCredentials"
      ],
      "execution_count": null,
      "outputs": []
    },
    {
      "cell_type": "code",
      "metadata": {
        "id": "3fgPBe-zCVGF"
      },
      "source": [
        "auth.authenticate_user()\n",
        "gauth = GoogleAuth()\n",
        "gauth.credentials = GoogleCredentials.get_application_default()\n",
        "drive = GoogleDrive(gauth)"
      ],
      "execution_count": null,
      "outputs": []
    },
    {
      "cell_type": "code",
      "metadata": {
        "id": "6SzZkyeRClJb"
      },
      "source": [
        "downloaded = drive.CreateFile({'id':'1ongTyiAhfr8Pn1hQWbrOFeIMmA0M16Yt'}) # replace the id with id of file you want to access\n",
        "downloaded.GetContentFile('Adview.csv')"
      ],
      "execution_count": null,
      "outputs": []
    },
    {
      "cell_type": "markdown",
      "metadata": {
        "id": "14-m4povZ2-E"
      },
      "source": [
        "## Data Preprocessing"
      ]
    },
    {
      "cell_type": "code",
      "metadata": {
        "id": "nAhKS71TRoFh"
      },
      "source": [
        "df=pd.read_csv(\"Adview.csv\")"
      ],
      "execution_count": null,
      "outputs": []
    },
    {
      "cell_type": "code",
      "metadata": {
        "colab": {
          "base_uri": "https://localhost:8080/",
          "height": 195
        },
        "id": "qC2dFWVURoFh",
        "outputId": "0eb6df61-302a-4d02-85ae-f7acfd01831d"
      },
      "source": [
        "df.head()"
      ],
      "execution_count": null,
      "outputs": [
        {
          "output_type": "execute_result",
          "data": {
            "text/html": [
              "<div>\n",
              "<style scoped>\n",
              "    .dataframe tbody tr th:only-of-type {\n",
              "        vertical-align: middle;\n",
              "    }\n",
              "\n",
              "    .dataframe tbody tr th {\n",
              "        vertical-align: top;\n",
              "    }\n",
              "\n",
              "    .dataframe thead th {\n",
              "        text-align: right;\n",
              "    }\n",
              "</style>\n",
              "<table border=\"1\" class=\"dataframe\">\n",
              "  <thead>\n",
              "    <tr style=\"text-align: right;\">\n",
              "      <th></th>\n",
              "      <th>vidid</th>\n",
              "      <th>adview</th>\n",
              "      <th>views</th>\n",
              "      <th>likes</th>\n",
              "      <th>dislikes</th>\n",
              "      <th>comment</th>\n",
              "      <th>published</th>\n",
              "      <th>duration</th>\n",
              "      <th>category</th>\n",
              "    </tr>\n",
              "  </thead>\n",
              "  <tbody>\n",
              "    <tr>\n",
              "      <th>0</th>\n",
              "      <td>VID_18655</td>\n",
              "      <td>40</td>\n",
              "      <td>1031602</td>\n",
              "      <td>8523</td>\n",
              "      <td>363</td>\n",
              "      <td>1095</td>\n",
              "      <td>2016-09-14</td>\n",
              "      <td>PT7M37S</td>\n",
              "      <td>F</td>\n",
              "    </tr>\n",
              "    <tr>\n",
              "      <th>1</th>\n",
              "      <td>VID_14135</td>\n",
              "      <td>2</td>\n",
              "      <td>1707</td>\n",
              "      <td>56</td>\n",
              "      <td>2</td>\n",
              "      <td>6</td>\n",
              "      <td>2016-10-01</td>\n",
              "      <td>PT9M30S</td>\n",
              "      <td>D</td>\n",
              "    </tr>\n",
              "    <tr>\n",
              "      <th>2</th>\n",
              "      <td>VID_2187</td>\n",
              "      <td>1</td>\n",
              "      <td>2023</td>\n",
              "      <td>25</td>\n",
              "      <td>0</td>\n",
              "      <td>2</td>\n",
              "      <td>2016-07-02</td>\n",
              "      <td>PT2M16S</td>\n",
              "      <td>C</td>\n",
              "    </tr>\n",
              "    <tr>\n",
              "      <th>3</th>\n",
              "      <td>VID_23096</td>\n",
              "      <td>6</td>\n",
              "      <td>620860</td>\n",
              "      <td>777</td>\n",
              "      <td>161</td>\n",
              "      <td>153</td>\n",
              "      <td>2016-07-27</td>\n",
              "      <td>PT4M22S</td>\n",
              "      <td>H</td>\n",
              "    </tr>\n",
              "    <tr>\n",
              "      <th>4</th>\n",
              "      <td>VID_10175</td>\n",
              "      <td>1</td>\n",
              "      <td>666</td>\n",
              "      <td>1</td>\n",
              "      <td>0</td>\n",
              "      <td>0</td>\n",
              "      <td>2016-06-29</td>\n",
              "      <td>PT31S</td>\n",
              "      <td>D</td>\n",
              "    </tr>\n",
              "  </tbody>\n",
              "</table>\n",
              "</div>"
            ],
            "text/plain": [
              "       vidid  adview    views likes  ... comment   published duration category\n",
              "0  VID_18655      40  1031602  8523  ...    1095  2016-09-14  PT7M37S        F\n",
              "1  VID_14135       2     1707    56  ...       6  2016-10-01  PT9M30S        D\n",
              "2   VID_2187       1     2023    25  ...       2  2016-07-02  PT2M16S        C\n",
              "3  VID_23096       6   620860   777  ...     153  2016-07-27  PT4M22S        H\n",
              "4  VID_10175       1      666     1  ...       0  2016-06-29    PT31S        D\n",
              "\n",
              "[5 rows x 9 columns]"
            ]
          },
          "metadata": {
            "tags": []
          },
          "execution_count": 6
        }
      ]
    },
    {
      "cell_type": "code",
      "metadata": {
        "colab": {
          "base_uri": "https://localhost:8080/"
        },
        "id": "A0H0BatdRoFj",
        "outputId": "0ca252fa-7b99-403a-ef13-96498a8cbfb2"
      },
      "source": [
        "df.info()"
      ],
      "execution_count": null,
      "outputs": [
        {
          "output_type": "stream",
          "text": [
            "<class 'pandas.core.frame.DataFrame'>\n",
            "RangeIndex: 14999 entries, 0 to 14998\n",
            "Data columns (total 9 columns):\n",
            " #   Column     Non-Null Count  Dtype \n",
            "---  ------     --------------  ----- \n",
            " 0   vidid      14999 non-null  object\n",
            " 1   adview     14999 non-null  int64 \n",
            " 2   views      14999 non-null  object\n",
            " 3   likes      14999 non-null  object\n",
            " 4   dislikes   14999 non-null  object\n",
            " 5   comment    14999 non-null  object\n",
            " 6   published  14999 non-null  object\n",
            " 7   duration   14999 non-null  object\n",
            " 8   category   14999 non-null  object\n",
            "dtypes: int64(1), object(8)\n",
            "memory usage: 1.0+ MB\n"
          ],
          "name": "stdout"
        }
      ]
    },
    {
      "cell_type": "code",
      "metadata": {
        "colab": {
          "base_uri": "https://localhost:8080/"
        },
        "id": "aesZP2wBRoFk",
        "outputId": "3d8e4a65-8f6b-470c-c16e-e3d0e56e6515"
      },
      "source": [
        "df.isnull().sum()"
      ],
      "execution_count": null,
      "outputs": [
        {
          "output_type": "execute_result",
          "data": {
            "text/plain": [
              "vidid        0\n",
              "adview       0\n",
              "views        0\n",
              "likes        0\n",
              "dislikes     0\n",
              "comment      0\n",
              "published    0\n",
              "duration     0\n",
              "category     0\n",
              "dtype: int64"
            ]
          },
          "metadata": {
            "tags": []
          },
          "execution_count": 8
        }
      ]
    },
    {
      "cell_type": "code",
      "metadata": {
        "id": "GUw7yDd5RoFk"
      },
      "source": [
        "# removing unwanted columns"
      ],
      "execution_count": null,
      "outputs": []
    },
    {
      "cell_type": "code",
      "metadata": {
        "id": "F8wffRSoRoFk"
      },
      "source": [
        "df=df.drop(labels='vidid',axis=1)"
      ],
      "execution_count": null,
      "outputs": []
    },
    {
      "cell_type": "code",
      "metadata": {
        "colab": {
          "base_uri": "https://localhost:8080/",
          "height": 195
        },
        "id": "gzyLuC_GRoFk",
        "outputId": "fd4e4c29-f461-4ff6-e40e-766bff4cfbfd"
      },
      "source": [
        "df.head()"
      ],
      "execution_count": null,
      "outputs": [
        {
          "output_type": "execute_result",
          "data": {
            "text/html": [
              "<div>\n",
              "<style scoped>\n",
              "    .dataframe tbody tr th:only-of-type {\n",
              "        vertical-align: middle;\n",
              "    }\n",
              "\n",
              "    .dataframe tbody tr th {\n",
              "        vertical-align: top;\n",
              "    }\n",
              "\n",
              "    .dataframe thead th {\n",
              "        text-align: right;\n",
              "    }\n",
              "</style>\n",
              "<table border=\"1\" class=\"dataframe\">\n",
              "  <thead>\n",
              "    <tr style=\"text-align: right;\">\n",
              "      <th></th>\n",
              "      <th>adview</th>\n",
              "      <th>views</th>\n",
              "      <th>likes</th>\n",
              "      <th>dislikes</th>\n",
              "      <th>comment</th>\n",
              "      <th>published</th>\n",
              "      <th>duration</th>\n",
              "      <th>category</th>\n",
              "    </tr>\n",
              "  </thead>\n",
              "  <tbody>\n",
              "    <tr>\n",
              "      <th>0</th>\n",
              "      <td>40</td>\n",
              "      <td>1031602</td>\n",
              "      <td>8523</td>\n",
              "      <td>363</td>\n",
              "      <td>1095</td>\n",
              "      <td>2016-09-14</td>\n",
              "      <td>PT7M37S</td>\n",
              "      <td>F</td>\n",
              "    </tr>\n",
              "    <tr>\n",
              "      <th>1</th>\n",
              "      <td>2</td>\n",
              "      <td>1707</td>\n",
              "      <td>56</td>\n",
              "      <td>2</td>\n",
              "      <td>6</td>\n",
              "      <td>2016-10-01</td>\n",
              "      <td>PT9M30S</td>\n",
              "      <td>D</td>\n",
              "    </tr>\n",
              "    <tr>\n",
              "      <th>2</th>\n",
              "      <td>1</td>\n",
              "      <td>2023</td>\n",
              "      <td>25</td>\n",
              "      <td>0</td>\n",
              "      <td>2</td>\n",
              "      <td>2016-07-02</td>\n",
              "      <td>PT2M16S</td>\n",
              "      <td>C</td>\n",
              "    </tr>\n",
              "    <tr>\n",
              "      <th>3</th>\n",
              "      <td>6</td>\n",
              "      <td>620860</td>\n",
              "      <td>777</td>\n",
              "      <td>161</td>\n",
              "      <td>153</td>\n",
              "      <td>2016-07-27</td>\n",
              "      <td>PT4M22S</td>\n",
              "      <td>H</td>\n",
              "    </tr>\n",
              "    <tr>\n",
              "      <th>4</th>\n",
              "      <td>1</td>\n",
              "      <td>666</td>\n",
              "      <td>1</td>\n",
              "      <td>0</td>\n",
              "      <td>0</td>\n",
              "      <td>2016-06-29</td>\n",
              "      <td>PT31S</td>\n",
              "      <td>D</td>\n",
              "    </tr>\n",
              "  </tbody>\n",
              "</table>\n",
              "</div>"
            ],
            "text/plain": [
              "   adview    views likes dislikes comment   published duration category\n",
              "0      40  1031602  8523      363    1095  2016-09-14  PT7M37S        F\n",
              "1       2     1707    56        2       6  2016-10-01  PT9M30S        D\n",
              "2       1     2023    25        0       2  2016-07-02  PT2M16S        C\n",
              "3       6   620860   777      161     153  2016-07-27  PT4M22S        H\n",
              "4       1      666     1        0       0  2016-06-29    PT31S        D"
            ]
          },
          "metadata": {
            "tags": []
          },
          "execution_count": 11
        }
      ]
    },
    {
      "cell_type": "code",
      "metadata": {
        "id": "1ojtNq1vRoFk"
      },
      "source": [
        "# converting categorical variables into numerical values"
      ],
      "execution_count": null,
      "outputs": []
    },
    {
      "cell_type": "code",
      "metadata": {
        "id": "ptOfbJarRoFl"
      },
      "source": [
        "cater_covert={'A':1,'B':2,'C':3,'D':4,'E':5,'F':6,'G':7,'H':8}\n",
        "df.category=df.category.map(cater_covert)"
      ],
      "execution_count": null,
      "outputs": []
    },
    {
      "cell_type": "code",
      "metadata": {
        "colab": {
          "base_uri": "https://localhost:8080/",
          "height": 195
        },
        "id": "tOl9So0XRoFl",
        "outputId": "b0263085-d59e-47e9-efc5-512a9ac72ccd"
      },
      "source": [
        "df.head()"
      ],
      "execution_count": null,
      "outputs": [
        {
          "output_type": "execute_result",
          "data": {
            "text/html": [
              "<div>\n",
              "<style scoped>\n",
              "    .dataframe tbody tr th:only-of-type {\n",
              "        vertical-align: middle;\n",
              "    }\n",
              "\n",
              "    .dataframe tbody tr th {\n",
              "        vertical-align: top;\n",
              "    }\n",
              "\n",
              "    .dataframe thead th {\n",
              "        text-align: right;\n",
              "    }\n",
              "</style>\n",
              "<table border=\"1\" class=\"dataframe\">\n",
              "  <thead>\n",
              "    <tr style=\"text-align: right;\">\n",
              "      <th></th>\n",
              "      <th>adview</th>\n",
              "      <th>views</th>\n",
              "      <th>likes</th>\n",
              "      <th>dislikes</th>\n",
              "      <th>comment</th>\n",
              "      <th>published</th>\n",
              "      <th>duration</th>\n",
              "      <th>category</th>\n",
              "    </tr>\n",
              "  </thead>\n",
              "  <tbody>\n",
              "    <tr>\n",
              "      <th>0</th>\n",
              "      <td>40</td>\n",
              "      <td>1031602</td>\n",
              "      <td>8523</td>\n",
              "      <td>363</td>\n",
              "      <td>1095</td>\n",
              "      <td>2016-09-14</td>\n",
              "      <td>PT7M37S</td>\n",
              "      <td>6</td>\n",
              "    </tr>\n",
              "    <tr>\n",
              "      <th>1</th>\n",
              "      <td>2</td>\n",
              "      <td>1707</td>\n",
              "      <td>56</td>\n",
              "      <td>2</td>\n",
              "      <td>6</td>\n",
              "      <td>2016-10-01</td>\n",
              "      <td>PT9M30S</td>\n",
              "      <td>4</td>\n",
              "    </tr>\n",
              "    <tr>\n",
              "      <th>2</th>\n",
              "      <td>1</td>\n",
              "      <td>2023</td>\n",
              "      <td>25</td>\n",
              "      <td>0</td>\n",
              "      <td>2</td>\n",
              "      <td>2016-07-02</td>\n",
              "      <td>PT2M16S</td>\n",
              "      <td>3</td>\n",
              "    </tr>\n",
              "    <tr>\n",
              "      <th>3</th>\n",
              "      <td>6</td>\n",
              "      <td>620860</td>\n",
              "      <td>777</td>\n",
              "      <td>161</td>\n",
              "      <td>153</td>\n",
              "      <td>2016-07-27</td>\n",
              "      <td>PT4M22S</td>\n",
              "      <td>8</td>\n",
              "    </tr>\n",
              "    <tr>\n",
              "      <th>4</th>\n",
              "      <td>1</td>\n",
              "      <td>666</td>\n",
              "      <td>1</td>\n",
              "      <td>0</td>\n",
              "      <td>0</td>\n",
              "      <td>2016-06-29</td>\n",
              "      <td>PT31S</td>\n",
              "      <td>4</td>\n",
              "    </tr>\n",
              "  </tbody>\n",
              "</table>\n",
              "</div>"
            ],
            "text/plain": [
              "   adview    views likes dislikes comment   published duration  category\n",
              "0      40  1031602  8523      363    1095  2016-09-14  PT7M37S         6\n",
              "1       2     1707    56        2       6  2016-10-01  PT9M30S         4\n",
              "2       1     2023    25        0       2  2016-07-02  PT2M16S         3\n",
              "3       6   620860   777      161     153  2016-07-27  PT4M22S         8\n",
              "4       1      666     1        0       0  2016-06-29    PT31S         4"
            ]
          },
          "metadata": {
            "tags": []
          },
          "execution_count": 14
        }
      ]
    },
    {
      "cell_type": "code",
      "metadata": {
        "colab": {
          "base_uri": "https://localhost:8080/"
        },
        "id": "5_vNQjn-RoFl",
        "outputId": "f3fa9c2d-bcf8-4373-8bc9-d8be30def817"
      },
      "source": [
        "df.dtypes"
      ],
      "execution_count": null,
      "outputs": [
        {
          "output_type": "execute_result",
          "data": {
            "text/plain": [
              "adview        int64\n",
              "views        object\n",
              "likes        object\n",
              "dislikes     object\n",
              "comment      object\n",
              "published    object\n",
              "duration     object\n",
              "category      int64\n",
              "dtype: object"
            ]
          },
          "metadata": {
            "tags": []
          },
          "execution_count": 15
        }
      ]
    },
    {
      "cell_type": "code",
      "metadata": {
        "id": "RZzh7zBURoFl"
      },
      "source": [
        "# remove missing values"
      ],
      "execution_count": null,
      "outputs": []
    },
    {
      "cell_type": "code",
      "metadata": {
        "id": "lyYcwDCFRoFl"
      },
      "source": [
        "df = df[~df['adview'].isin(['F'])]"
      ],
      "execution_count": null,
      "outputs": []
    },
    {
      "cell_type": "code",
      "metadata": {
        "id": "kKcGNHPsRoFl"
      },
      "source": [
        "df = df[~df['views'].isin(['F'])]\n",
        "df = df[~df['likes'].isin(['F'])]\n",
        "df = df[~df['dislikes'].isin(['F'])]\n",
        "df = df[~df['comment'].isin(['F'])]\n",
        "df = df[~df['published'].isin(['F'])]\n",
        "df = df[~df['duration'].isin(['F'])]\n",
        "df = df[~df['category'].isin(['F'])]"
      ],
      "execution_count": null,
      "outputs": []
    },
    {
      "cell_type": "code",
      "metadata": {
        "colab": {
          "base_uri": "https://localhost:8080/",
          "height": 195
        },
        "id": "NRtZsaBaRoFl",
        "outputId": "06c7b296-99ec-4c7f-f0a4-ae6673b4c748"
      },
      "source": [
        "df.head()"
      ],
      "execution_count": null,
      "outputs": [
        {
          "output_type": "execute_result",
          "data": {
            "text/html": [
              "<div>\n",
              "<style scoped>\n",
              "    .dataframe tbody tr th:only-of-type {\n",
              "        vertical-align: middle;\n",
              "    }\n",
              "\n",
              "    .dataframe tbody tr th {\n",
              "        vertical-align: top;\n",
              "    }\n",
              "\n",
              "    .dataframe thead th {\n",
              "        text-align: right;\n",
              "    }\n",
              "</style>\n",
              "<table border=\"1\" class=\"dataframe\">\n",
              "  <thead>\n",
              "    <tr style=\"text-align: right;\">\n",
              "      <th></th>\n",
              "      <th>adview</th>\n",
              "      <th>views</th>\n",
              "      <th>likes</th>\n",
              "      <th>dislikes</th>\n",
              "      <th>comment</th>\n",
              "      <th>published</th>\n",
              "      <th>duration</th>\n",
              "      <th>category</th>\n",
              "    </tr>\n",
              "  </thead>\n",
              "  <tbody>\n",
              "    <tr>\n",
              "      <th>0</th>\n",
              "      <td>40</td>\n",
              "      <td>1031602</td>\n",
              "      <td>8523</td>\n",
              "      <td>363</td>\n",
              "      <td>1095</td>\n",
              "      <td>2016-09-14</td>\n",
              "      <td>PT7M37S</td>\n",
              "      <td>6</td>\n",
              "    </tr>\n",
              "    <tr>\n",
              "      <th>1</th>\n",
              "      <td>2</td>\n",
              "      <td>1707</td>\n",
              "      <td>56</td>\n",
              "      <td>2</td>\n",
              "      <td>6</td>\n",
              "      <td>2016-10-01</td>\n",
              "      <td>PT9M30S</td>\n",
              "      <td>4</td>\n",
              "    </tr>\n",
              "    <tr>\n",
              "      <th>2</th>\n",
              "      <td>1</td>\n",
              "      <td>2023</td>\n",
              "      <td>25</td>\n",
              "      <td>0</td>\n",
              "      <td>2</td>\n",
              "      <td>2016-07-02</td>\n",
              "      <td>PT2M16S</td>\n",
              "      <td>3</td>\n",
              "    </tr>\n",
              "    <tr>\n",
              "      <th>3</th>\n",
              "      <td>6</td>\n",
              "      <td>620860</td>\n",
              "      <td>777</td>\n",
              "      <td>161</td>\n",
              "      <td>153</td>\n",
              "      <td>2016-07-27</td>\n",
              "      <td>PT4M22S</td>\n",
              "      <td>8</td>\n",
              "    </tr>\n",
              "    <tr>\n",
              "      <th>4</th>\n",
              "      <td>1</td>\n",
              "      <td>666</td>\n",
              "      <td>1</td>\n",
              "      <td>0</td>\n",
              "      <td>0</td>\n",
              "      <td>2016-06-29</td>\n",
              "      <td>PT31S</td>\n",
              "      <td>4</td>\n",
              "    </tr>\n",
              "  </tbody>\n",
              "</table>\n",
              "</div>"
            ],
            "text/plain": [
              "   adview    views likes dislikes comment   published duration  category\n",
              "0      40  1031602  8523      363    1095  2016-09-14  PT7M37S         6\n",
              "1       2     1707    56        2       6  2016-10-01  PT9M30S         4\n",
              "2       1     2023    25        0       2  2016-07-02  PT2M16S         3\n",
              "3       6   620860   777      161     153  2016-07-27  PT4M22S         8\n",
              "4       1      666     1        0       0  2016-06-29    PT31S         4"
            ]
          },
          "metadata": {
            "tags": []
          },
          "execution_count": 19
        }
      ]
    },
    {
      "cell_type": "code",
      "metadata": {
        "id": "9ZhjgFpURoFm"
      },
      "source": [
        "# change categories into numbers"
      ],
      "execution_count": null,
      "outputs": []
    },
    {
      "cell_type": "code",
      "metadata": {
        "id": "R3GumfteRoFm"
      },
      "source": [
        "df['views']=df['views'].astype('int')\n",
        "df['likes']=df['likes'].astype('int')\n",
        "df['dislikes']=df['dislikes'].astype('int')\n",
        "df['comment']=df['comment'].astype('int')"
      ],
      "execution_count": null,
      "outputs": []
    },
    {
      "cell_type": "code",
      "metadata": {
        "colab": {
          "base_uri": "https://localhost:8080/"
        },
        "id": "HrUT-nqSRoFm",
        "outputId": "e0b77ba4-721d-4f93-f937-dc2e8942d280"
      },
      "source": [
        "df.dtypes"
      ],
      "execution_count": null,
      "outputs": [
        {
          "output_type": "execute_result",
          "data": {
            "text/plain": [
              "adview        int64\n",
              "views         int64\n",
              "likes         int64\n",
              "dislikes      int64\n",
              "comment       int64\n",
              "published    object\n",
              "duration     object\n",
              "category      int64\n",
              "dtype: object"
            ]
          },
          "metadata": {
            "tags": []
          },
          "execution_count": 22
        }
      ]
    },
    {
      "cell_type": "code",
      "metadata": {
        "colab": {
          "base_uri": "https://localhost:8080/",
          "height": 195
        },
        "id": "Tpc2K4EbRoFm",
        "outputId": "8e12780f-f0b6-4604-c337-36e385a039ab"
      },
      "source": [
        "df.head()"
      ],
      "execution_count": null,
      "outputs": [
        {
          "output_type": "execute_result",
          "data": {
            "text/html": [
              "<div>\n",
              "<style scoped>\n",
              "    .dataframe tbody tr th:only-of-type {\n",
              "        vertical-align: middle;\n",
              "    }\n",
              "\n",
              "    .dataframe tbody tr th {\n",
              "        vertical-align: top;\n",
              "    }\n",
              "\n",
              "    .dataframe thead th {\n",
              "        text-align: right;\n",
              "    }\n",
              "</style>\n",
              "<table border=\"1\" class=\"dataframe\">\n",
              "  <thead>\n",
              "    <tr style=\"text-align: right;\">\n",
              "      <th></th>\n",
              "      <th>adview</th>\n",
              "      <th>views</th>\n",
              "      <th>likes</th>\n",
              "      <th>dislikes</th>\n",
              "      <th>comment</th>\n",
              "      <th>published</th>\n",
              "      <th>duration</th>\n",
              "      <th>category</th>\n",
              "    </tr>\n",
              "  </thead>\n",
              "  <tbody>\n",
              "    <tr>\n",
              "      <th>0</th>\n",
              "      <td>40</td>\n",
              "      <td>1031602</td>\n",
              "      <td>8523</td>\n",
              "      <td>363</td>\n",
              "      <td>1095</td>\n",
              "      <td>2016-09-14</td>\n",
              "      <td>PT7M37S</td>\n",
              "      <td>6</td>\n",
              "    </tr>\n",
              "    <tr>\n",
              "      <th>1</th>\n",
              "      <td>2</td>\n",
              "      <td>1707</td>\n",
              "      <td>56</td>\n",
              "      <td>2</td>\n",
              "      <td>6</td>\n",
              "      <td>2016-10-01</td>\n",
              "      <td>PT9M30S</td>\n",
              "      <td>4</td>\n",
              "    </tr>\n",
              "    <tr>\n",
              "      <th>2</th>\n",
              "      <td>1</td>\n",
              "      <td>2023</td>\n",
              "      <td>25</td>\n",
              "      <td>0</td>\n",
              "      <td>2</td>\n",
              "      <td>2016-07-02</td>\n",
              "      <td>PT2M16S</td>\n",
              "      <td>3</td>\n",
              "    </tr>\n",
              "    <tr>\n",
              "      <th>3</th>\n",
              "      <td>6</td>\n",
              "      <td>620860</td>\n",
              "      <td>777</td>\n",
              "      <td>161</td>\n",
              "      <td>153</td>\n",
              "      <td>2016-07-27</td>\n",
              "      <td>PT4M22S</td>\n",
              "      <td>8</td>\n",
              "    </tr>\n",
              "    <tr>\n",
              "      <th>4</th>\n",
              "      <td>1</td>\n",
              "      <td>666</td>\n",
              "      <td>1</td>\n",
              "      <td>0</td>\n",
              "      <td>0</td>\n",
              "      <td>2016-06-29</td>\n",
              "      <td>PT31S</td>\n",
              "      <td>4</td>\n",
              "    </tr>\n",
              "  </tbody>\n",
              "</table>\n",
              "</div>"
            ],
            "text/plain": [
              "   adview    views  likes  dislikes  comment   published duration  category\n",
              "0      40  1031602   8523       363     1095  2016-09-14  PT7M37S         6\n",
              "1       2     1707     56         2        6  2016-10-01  PT9M30S         4\n",
              "2       1     2023     25         0        2  2016-07-02  PT2M16S         3\n",
              "3       6   620860    777       161      153  2016-07-27  PT4M22S         8\n",
              "4       1      666      1         0        0  2016-06-29    PT31S         4"
            ]
          },
          "metadata": {
            "tags": []
          },
          "execution_count": 23
        }
      ]
    },
    {
      "cell_type": "code",
      "metadata": {
        "id": "R3ZmBLcARoFm"
      },
      "source": [
        "import datetime\n",
        "import time"
      ],
      "execution_count": null,
      "outputs": []
    },
    {
      "cell_type": "code",
      "metadata": {
        "colab": {
          "base_uri": "https://localhost:8080/",
          "height": 195
        },
        "id": "oAgeEq19RoFn",
        "outputId": "f1eedfa5-289b-46aa-aeba-4214fe802e0d"
      },
      "source": [
        "def checki(x):\n",
        "    y = x[2:]\n",
        "    h = ''\n",
        "    m = ''\n",
        "    s = ''\n",
        "    mm = ''\n",
        "    P = ['H','M','S']\n",
        "    for i in y:\n",
        "        if i not in P:\n",
        "            mm+=i\n",
        "        else:\n",
        "            if(i==\"H\"):\n",
        "                h = mm\n",
        "                mm = ''\n",
        "            elif(i == \"M\"):\n",
        "                m = mm\n",
        "                mm = ''\n",
        "            else:\n",
        "                s = mm\n",
        "                mm = ''\n",
        "    if(h==''):\n",
        "        h = '00'\n",
        "    if(m == ''):\n",
        "        m = '00'\n",
        "    if(s==''):\n",
        "        s='00'\n",
        "    bp = h+':'+m+':'+s\n",
        "    return bp\n",
        "\n",
        "time = df['duration'].apply(checki)\n",
        "\n",
        "def func_sec(time_string):\n",
        "    h, m, s = time_string.split(':')\n",
        "    return int(h) * 3600 + int(m) * 60 + int(s)\n",
        "\n",
        "time1=time.apply(func_sec)\n",
        "\n",
        "df[\"duration\"]=time1\n",
        "df.head()"
      ],
      "execution_count": null,
      "outputs": [
        {
          "output_type": "execute_result",
          "data": {
            "text/html": [
              "<div>\n",
              "<style scoped>\n",
              "    .dataframe tbody tr th:only-of-type {\n",
              "        vertical-align: middle;\n",
              "    }\n",
              "\n",
              "    .dataframe tbody tr th {\n",
              "        vertical-align: top;\n",
              "    }\n",
              "\n",
              "    .dataframe thead th {\n",
              "        text-align: right;\n",
              "    }\n",
              "</style>\n",
              "<table border=\"1\" class=\"dataframe\">\n",
              "  <thead>\n",
              "    <tr style=\"text-align: right;\">\n",
              "      <th></th>\n",
              "      <th>adview</th>\n",
              "      <th>views</th>\n",
              "      <th>likes</th>\n",
              "      <th>dislikes</th>\n",
              "      <th>comment</th>\n",
              "      <th>published</th>\n",
              "      <th>duration</th>\n",
              "      <th>category</th>\n",
              "    </tr>\n",
              "  </thead>\n",
              "  <tbody>\n",
              "    <tr>\n",
              "      <th>0</th>\n",
              "      <td>40</td>\n",
              "      <td>1031602</td>\n",
              "      <td>8523</td>\n",
              "      <td>363</td>\n",
              "      <td>1095</td>\n",
              "      <td>2016-09-14</td>\n",
              "      <td>457</td>\n",
              "      <td>6</td>\n",
              "    </tr>\n",
              "    <tr>\n",
              "      <th>1</th>\n",
              "      <td>2</td>\n",
              "      <td>1707</td>\n",
              "      <td>56</td>\n",
              "      <td>2</td>\n",
              "      <td>6</td>\n",
              "      <td>2016-10-01</td>\n",
              "      <td>570</td>\n",
              "      <td>4</td>\n",
              "    </tr>\n",
              "    <tr>\n",
              "      <th>2</th>\n",
              "      <td>1</td>\n",
              "      <td>2023</td>\n",
              "      <td>25</td>\n",
              "      <td>0</td>\n",
              "      <td>2</td>\n",
              "      <td>2016-07-02</td>\n",
              "      <td>136</td>\n",
              "      <td>3</td>\n",
              "    </tr>\n",
              "    <tr>\n",
              "      <th>3</th>\n",
              "      <td>6</td>\n",
              "      <td>620860</td>\n",
              "      <td>777</td>\n",
              "      <td>161</td>\n",
              "      <td>153</td>\n",
              "      <td>2016-07-27</td>\n",
              "      <td>262</td>\n",
              "      <td>8</td>\n",
              "    </tr>\n",
              "    <tr>\n",
              "      <th>4</th>\n",
              "      <td>1</td>\n",
              "      <td>666</td>\n",
              "      <td>1</td>\n",
              "      <td>0</td>\n",
              "      <td>0</td>\n",
              "      <td>2016-06-29</td>\n",
              "      <td>31</td>\n",
              "      <td>4</td>\n",
              "    </tr>\n",
              "  </tbody>\n",
              "</table>\n",
              "</div>"
            ],
            "text/plain": [
              "   adview    views  likes  dislikes  comment   published  duration  category\n",
              "0      40  1031602   8523       363     1095  2016-09-14       457         6\n",
              "1       2     1707     56         2        6  2016-10-01       570         4\n",
              "2       1     2023     25         0        2  2016-07-02       136         3\n",
              "3       6   620860    777       161      153  2016-07-27       262         8\n",
              "4       1      666      1         0        0  2016-06-29        31         4"
            ]
          },
          "metadata": {
            "tags": []
          },
          "execution_count": 25
        }
      ]
    },
    {
      "cell_type": "code",
      "metadata": {
        "colab": {
          "base_uri": "https://localhost:8080/"
        },
        "id": "PSjMv4_CRoFn",
        "outputId": "163c0b4e-b759-46a1-80cc-1e07a3ea2f1b"
      },
      "source": [
        "df.shape"
      ],
      "execution_count": null,
      "outputs": [
        {
          "output_type": "execute_result",
          "data": {
            "text/plain": [
              "(14637, 8)"
            ]
          },
          "metadata": {
            "tags": []
          },
          "execution_count": 26
        }
      ]
    },
    {
      "cell_type": "code",
      "metadata": {
        "id": "jF2KOMIFRoFn"
      },
      "source": [
        "from sklearn.preprocessing import LabelEncoder\n",
        "df['published']=LabelEncoder().fit_transform(df['published'])"
      ],
      "execution_count": null,
      "outputs": []
    },
    {
      "cell_type": "code",
      "metadata": {
        "colab": {
          "base_uri": "https://localhost:8080/",
          "height": 195
        },
        "id": "I8bqJCxHRoFn",
        "outputId": "77c6609d-45fc-4227-82b6-06afa5bd9e7a"
      },
      "source": [
        "df.head()"
      ],
      "execution_count": null,
      "outputs": [
        {
          "output_type": "execute_result",
          "data": {
            "text/html": [
              "<div>\n",
              "<style scoped>\n",
              "    .dataframe tbody tr th:only-of-type {\n",
              "        vertical-align: middle;\n",
              "    }\n",
              "\n",
              "    .dataframe tbody tr th {\n",
              "        vertical-align: top;\n",
              "    }\n",
              "\n",
              "    .dataframe thead th {\n",
              "        text-align: right;\n",
              "    }\n",
              "</style>\n",
              "<table border=\"1\" class=\"dataframe\">\n",
              "  <thead>\n",
              "    <tr style=\"text-align: right;\">\n",
              "      <th></th>\n",
              "      <th>adview</th>\n",
              "      <th>views</th>\n",
              "      <th>likes</th>\n",
              "      <th>dislikes</th>\n",
              "      <th>comment</th>\n",
              "      <th>published</th>\n",
              "      <th>duration</th>\n",
              "      <th>category</th>\n",
              "    </tr>\n",
              "  </thead>\n",
              "  <tbody>\n",
              "    <tr>\n",
              "      <th>0</th>\n",
              "      <td>40</td>\n",
              "      <td>1031602</td>\n",
              "      <td>8523</td>\n",
              "      <td>363</td>\n",
              "      <td>1095</td>\n",
              "      <td>2168</td>\n",
              "      <td>457</td>\n",
              "      <td>6</td>\n",
              "    </tr>\n",
              "    <tr>\n",
              "      <th>1</th>\n",
              "      <td>2</td>\n",
              "      <td>1707</td>\n",
              "      <td>56</td>\n",
              "      <td>2</td>\n",
              "      <td>6</td>\n",
              "      <td>2185</td>\n",
              "      <td>570</td>\n",
              "      <td>4</td>\n",
              "    </tr>\n",
              "    <tr>\n",
              "      <th>2</th>\n",
              "      <td>1</td>\n",
              "      <td>2023</td>\n",
              "      <td>25</td>\n",
              "      <td>0</td>\n",
              "      <td>2</td>\n",
              "      <td>2094</td>\n",
              "      <td>136</td>\n",
              "      <td>3</td>\n",
              "    </tr>\n",
              "    <tr>\n",
              "      <th>3</th>\n",
              "      <td>6</td>\n",
              "      <td>620860</td>\n",
              "      <td>777</td>\n",
              "      <td>161</td>\n",
              "      <td>153</td>\n",
              "      <td>2119</td>\n",
              "      <td>262</td>\n",
              "      <td>8</td>\n",
              "    </tr>\n",
              "    <tr>\n",
              "      <th>4</th>\n",
              "      <td>1</td>\n",
              "      <td>666</td>\n",
              "      <td>1</td>\n",
              "      <td>0</td>\n",
              "      <td>0</td>\n",
              "      <td>2091</td>\n",
              "      <td>31</td>\n",
              "      <td>4</td>\n",
              "    </tr>\n",
              "  </tbody>\n",
              "</table>\n",
              "</div>"
            ],
            "text/plain": [
              "   adview    views  likes  dislikes  comment  published  duration  category\n",
              "0      40  1031602   8523       363     1095       2168       457         6\n",
              "1       2     1707     56         2        6       2185       570         4\n",
              "2       1     2023     25         0        2       2094       136         3\n",
              "3       6   620860    777       161      153       2119       262         8\n",
              "4       1      666      1         0        0       2091        31         4"
            ]
          },
          "metadata": {
            "tags": []
          },
          "execution_count": 28
        }
      ]
    },
    {
      "cell_type": "markdown",
      "metadata": {
        "id": "8cLTj_OPRoFn"
      },
      "source": [
        "### Visualizing -- looking for correlation and outliers"
      ]
    },
    {
      "cell_type": "code",
      "metadata": {
        "colab": {
          "base_uri": "https://localhost:8080/",
          "height": 332
        },
        "id": "SHbIwB8vRoFn",
        "scrolled": true,
        "outputId": "e63207ce-1df9-4432-c539-2b92cb579dac"
      },
      "source": [
        "plt.hist(df.category)"
      ],
      "execution_count": null,
      "outputs": [
        {
          "output_type": "execute_result",
          "data": {
            "text/plain": [
              "(array([ 358.,  970.,  556.,    0., 7383., 1597.,    0.,  879., 2473.,\n",
              "         421.]),\n",
              " array([1. , 1.7, 2.4, 3.1, 3.8, 4.5, 5.2, 5.9, 6.6, 7.3, 8. ]),\n",
              " <a list of 10 Patch objects>)"
            ]
          },
          "metadata": {
            "tags": []
          },
          "execution_count": 29
        },
        {
          "output_type": "display_data",
          "data": {
            "image/png": "[encoded data removed]",
            "text/plain": [
              "<Figure size 432x288 with 1 Axes>"
            ]
          },
          "metadata": {
            "tags": [],
            "needs_background": "light"
          }
        }
      ]
    },
    {
      "cell_type": "code",
      "metadata": {
        "colab": {
          "base_uri": "https://localhost:8080/",
          "height": 343
        },
        "id": "TYDQtW5hRoFo",
        "outputId": "1e845bd0-f750-4f67-d5a9-f233c736782f"
      },
      "source": [
        "df.sort_values(by='adview',ascending=False).head(10)"
      ],
      "execution_count": null,
      "outputs": [
        {
          "output_type": "execute_result",
          "data": {
            "text/html": [
              "<div>\n",
              "<style scoped>\n",
              "    .dataframe tbody tr th:only-of-type {\n",
              "        vertical-align: middle;\n",
              "    }\n",
              "\n",
              "    .dataframe tbody tr th {\n",
              "        vertical-align: top;\n",
              "    }\n",
              "\n",
              "    .dataframe thead th {\n",
              "        text-align: right;\n",
              "    }\n",
              "</style>\n",
              "<table border=\"1\" class=\"dataframe\">\n",
              "  <thead>\n",
              "    <tr style=\"text-align: right;\">\n",
              "      <th></th>\n",
              "      <th>adview</th>\n",
              "      <th>views</th>\n",
              "      <th>likes</th>\n",
              "      <th>dislikes</th>\n",
              "      <th>comment</th>\n",
              "      <th>published</th>\n",
              "      <th>duration</th>\n",
              "      <th>category</th>\n",
              "    </tr>\n",
              "  </thead>\n",
              "  <tbody>\n",
              "    <tr>\n",
              "      <th>9317</th>\n",
              "      <td>5429665</td>\n",
              "      <td>7072849</td>\n",
              "      <td>28360</td>\n",
              "      <td>4333</td>\n",
              "      <td>1872</td>\n",
              "      <td>2369</td>\n",
              "      <td>259</td>\n",
              "      <td>7</td>\n",
              "    </tr>\n",
              "    <tr>\n",
              "      <th>1200</th>\n",
              "      <td>1583846</td>\n",
              "      <td>17070057</td>\n",
              "      <td>98594</td>\n",
              "      <td>4234</td>\n",
              "      <td>7276</td>\n",
              "      <td>2092</td>\n",
              "      <td>189</td>\n",
              "      <td>5</td>\n",
              "    </tr>\n",
              "    <tr>\n",
              "      <th>2012</th>\n",
              "      <td>1497349</td>\n",
              "      <td>1525185</td>\n",
              "      <td>414</td>\n",
              "      <td>114</td>\n",
              "      <td>19</td>\n",
              "      <td>2269</td>\n",
              "      <td>69</td>\n",
              "      <td>4</td>\n",
              "    </tr>\n",
              "    <tr>\n",
              "      <th>1742</th>\n",
              "      <td>1333626</td>\n",
              "      <td>1344097</td>\n",
              "      <td>60</td>\n",
              "      <td>7</td>\n",
              "      <td>4</td>\n",
              "      <td>2269</td>\n",
              "      <td>58</td>\n",
              "      <td>4</td>\n",
              "    </tr>\n",
              "    <tr>\n",
              "      <th>1884</th>\n",
              "      <td>991819</td>\n",
              "      <td>4354099</td>\n",
              "      <td>16640</td>\n",
              "      <td>1931</td>\n",
              "      <td>2101</td>\n",
              "      <td>2309</td>\n",
              "      <td>310</td>\n",
              "      <td>2</td>\n",
              "    </tr>\n",
              "    <tr>\n",
              "      <th>1198</th>\n",
              "      <td>704516</td>\n",
              "      <td>919357</td>\n",
              "      <td>2294</td>\n",
              "      <td>396</td>\n",
              "      <td>299</td>\n",
              "      <td>2071</td>\n",
              "      <td>230</td>\n",
              "      <td>7</td>\n",
              "    </tr>\n",
              "    <tr>\n",
              "      <th>6707</th>\n",
              "      <td>648908</td>\n",
              "      <td>3786164</td>\n",
              "      <td>15656</td>\n",
              "      <td>785</td>\n",
              "      <td>2159</td>\n",
              "      <td>2167</td>\n",
              "      <td>353</td>\n",
              "      <td>4</td>\n",
              "    </tr>\n",
              "    <tr>\n",
              "      <th>8430</th>\n",
              "      <td>466253</td>\n",
              "      <td>753113</td>\n",
              "      <td>301</td>\n",
              "      <td>220</td>\n",
              "      <td>7</td>\n",
              "      <td>2223</td>\n",
              "      <td>167</td>\n",
              "      <td>5</td>\n",
              "    </tr>\n",
              "    <tr>\n",
              "      <th>1060</th>\n",
              "      <td>453147</td>\n",
              "      <td>611322</td>\n",
              "      <td>593</td>\n",
              "      <td>477</td>\n",
              "      <td>63</td>\n",
              "      <td>2226</td>\n",
              "      <td>151</td>\n",
              "      <td>5</td>\n",
              "    </tr>\n",
              "    <tr>\n",
              "      <th>5069</th>\n",
              "      <td>439065</td>\n",
              "      <td>1554859</td>\n",
              "      <td>15598</td>\n",
              "      <td>422</td>\n",
              "      <td>2086</td>\n",
              "      <td>2024</td>\n",
              "      <td>291</td>\n",
              "      <td>2</td>\n",
              "    </tr>\n",
              "  </tbody>\n",
              "</table>\n",
              "</div>"
            ],
            "text/plain": [
              "       adview     views  likes  ...  published  duration  category\n",
              "9317  5429665   7072849  28360  ...       2369       259         7\n",
              "1200  1583846  17070057  98594  ...       2092       189         5\n",
              "2012  1497349   1525185    414  ...       2269        69         4\n",
              "1742  1333626   1344097     60  ...       2269        58         4\n",
              "1884   991819   4354099  16640  ...       2309       310         2\n",
              "1198   704516    919357   2294  ...       2071       230         7\n",
              "6707   648908   3786164  15656  ...       2167       353         4\n",
              "8430   466253    753113    301  ...       2223       167         5\n",
              "1060   453147    611322    593  ...       2226       151         5\n",
              "5069   439065   1554859  15598  ...       2024       291         2\n",
              "\n",
              "[10 rows x 8 columns]"
            ]
          },
          "metadata": {
            "tags": []
          },
          "execution_count": 30
        }
      ]
    },
    {
      "cell_type": "code",
      "metadata": {
        "colab": {
          "base_uri": "https://localhost:8080/",
          "height": 296
        },
        "id": "Lb4N-_qvRoFo",
        "outputId": "0b5560ec-d4ff-449c-a505-e4987fd09c36"
      },
      "source": [
        "import seaborn as sns\n",
        "sns.boxplot(x=df['adview'])"
      ],
      "execution_count": null,
      "outputs": [
        {
          "output_type": "execute_result",
          "data": {
            "text/plain": [
              "<matplotlib.axes._subplots.AxesSubplot at 0x7f6f18ca1978>"
            ]
          },
          "metadata": {
            "tags": []
          },
          "execution_count": 31
        },
        {
          "output_type": "display_data",
          "data": {
            "image/png": "[encoded data removed]",
            "text/plain": [
              "<Figure size 432x288 with 1 Axes>"
            ]
          },
          "metadata": {
            "tags": [],
            "needs_background": "light"
          }
        }
      ]
    },
    {
      "cell_type": "code",
      "metadata": {
        "id": "OpuVD2cIRoFo"
      },
      "source": [
        "df=df[df['adview']<300000]"
      ],
      "execution_count": null,
      "outputs": []
    },
    {
      "cell_type": "code",
      "metadata": {
        "colab": {
          "base_uri": "https://localhost:8080/",
          "height": 296
        },
        "id": "ALLsWIctRoFo",
        "outputId": "66b61582-b8bf-44f2-e40b-46cc38fe7bde"
      },
      "source": [
        "sns.boxplot(x=df['adview'])"
      ],
      "execution_count": null,
      "outputs": [
        {
          "output_type": "execute_result",
          "data": {
            "text/plain": [
              "<matplotlib.axes._subplots.AxesSubplot at 0x7f6f18c2bc88>"
            ]
          },
          "metadata": {
            "tags": []
          },
          "execution_count": 33
        },
        {
          "output_type": "display_data",
          "data": {
            "image/png": "[encoded data removed]",
            "text/plain": [
              "<Figure size 432x288 with 1 Axes>"
            ]
          },
          "metadata": {
            "tags": [],
            "needs_background": "light"
          }
        }
      ]
    },
    {
      "cell_type": "code",
      "metadata": {
        "colab": {
          "base_uri": "https://localhost:8080/"
        },
        "id": "_bVn9YWqRoFp",
        "outputId": "abd9d218-24c1-4cb4-dd63-32262486374e"
      },
      "source": [
        "df.shape"
      ],
      "execution_count": null,
      "outputs": [
        {
          "output_type": "execute_result",
          "data": {
            "text/plain": [
              "(14622, 8)"
            ]
          },
          "metadata": {
            "tags": []
          },
          "execution_count": 34
        }
      ]
    },
    {
      "cell_type": "code",
      "metadata": {
        "colab": {
          "base_uri": "https://localhost:8080/",
          "height": 296
        },
        "id": "lOPVPYu2RoFp",
        "outputId": "dd46576f-7bec-41fe-96ab-cf8bcf513f1b"
      },
      "source": [
        "sns.boxplot(x=df['views'])"
      ],
      "execution_count": null,
      "outputs": [
        {
          "output_type": "execute_result",
          "data": {
            "text/plain": [
              "<matplotlib.axes._subplots.AxesSubplot at 0x7f6f178feba8>"
            ]
          },
          "metadata": {
            "tags": []
          },
          "execution_count": 35
        },
        {
          "output_type": "display_data",
          "data": {
            "image/png": "[encoded data removed]",
            "text/plain": [
              "<Figure size 432x288 with 1 Axes>"
            ]
          },
          "metadata": {
            "tags": [],
            "needs_background": "light"
          }
        }
      ]
    },
    {
      "cell_type": "code",
      "metadata": {
        "id": "0LDzFxMIRoFp"
      },
      "source": [
        "df=df[df['views']<50000000]"
      ],
      "execution_count": null,
      "outputs": []
    },
    {
      "cell_type": "code",
      "metadata": {
        "colab": {
          "base_uri": "https://localhost:8080/"
        },
        "id": "oFqNG8opRoFp",
        "outputId": "c0a9bac6-8292-4f59-eaf1-a807f7aa1505"
      },
      "source": [
        "df.shape"
      ],
      "execution_count": null,
      "outputs": [
        {
          "output_type": "execute_result",
          "data": {
            "text/plain": [
              "(14611, 8)"
            ]
          },
          "metadata": {
            "tags": []
          },
          "execution_count": 37
        }
      ]
    },
    {
      "cell_type": "code",
      "metadata": {
        "colab": {
          "base_uri": "https://localhost:8080/",
          "height": 296
        },
        "id": "2JffShf_RoFp",
        "outputId": "846ab225-b58d-4291-86a2-4fc191141063"
      },
      "source": [
        "sns.boxplot(x=df['views'])"
      ],
      "execution_count": null,
      "outputs": [
        {
          "output_type": "execute_result",
          "data": {
            "text/plain": [
              "<matplotlib.axes._subplots.AxesSubplot at 0x7f6f178cfe48>"
            ]
          },
          "metadata": {
            "tags": []
          },
          "execution_count": 38
        },
        {
          "output_type": "display_data",
          "data": {
            "image/png": "[encoded data removed]",
            "text/plain": [
              "<Figure size 432x288 with 1 Axes>"
            ]
          },
          "metadata": {
            "tags": [],
            "needs_background": "light"
          }
        }
      ]
    },
    {
      "cell_type": "code",
      "metadata": {
        "colab": {
          "base_uri": "https://localhost:8080/",
          "height": 282
        },
        "id": "JrdNpaD1RoFp",
        "scrolled": true,
        "outputId": "df5f1bee-b1f5-4f21-df3c-99c0d5cb4848"
      },
      "source": [
        "plt.scatter(df['likes'],df['dislikes'])"
      ],
      "execution_count": null,
      "outputs": [
        {
          "output_type": "execute_result",
          "data": {
            "text/plain": [
              "<matplotlib.collections.PathCollection at 0x7f6f177fd438>"
            ]
          },
          "metadata": {
            "tags": []
          },
          "execution_count": 39
        },
        {
          "output_type": "display_data",
          "data": {
            "image/png": "[encoded data removed]",
            "text/plain": [
              "<Figure size 432x288 with 1 Axes>"
            ]
          },
          "metadata": {
            "tags": [],
            "needs_background": "light"
          }
        }
      ]
    },
    {
      "cell_type": "code",
      "metadata": {
        "id": "OqM7Ox5MRoFq"
      },
      "source": [
        "# unable to find correlations in likes-views, likes-dislikes, views-adview"
      ],
      "execution_count": null,
      "outputs": []
    },
    {
      "cell_type": "code",
      "metadata": {
        "colab": {
          "base_uri": "https://localhost:8080/",
          "height": 296
        },
        "id": "vKYHAtIlRoFq",
        "outputId": "08feb2cc-bb6c-4a4e-cc4a-447daf52e7b6"
      },
      "source": [
        "sns.boxplot(x=df['likes'])"
      ],
      "execution_count": null,
      "outputs": [
        {
          "output_type": "execute_result",
          "data": {
            "text/plain": [
              "<matplotlib.axes._subplots.AxesSubplot at 0x7f6f177fdbe0>"
            ]
          },
          "metadata": {
            "tags": []
          },
          "execution_count": 41
        },
        {
          "output_type": "display_data",
          "data": {
            "image/png": "[encoded data removed]",
            "text/plain": [
              "<Figure size 432x288 with 1 Axes>"
            ]
          },
          "metadata": {
            "tags": [],
            "needs_background": "light"
          }
        }
      ]
    },
    {
      "cell_type": "code",
      "metadata": {
        "id": "XirsGwOqRoFq"
      },
      "source": [
        "df=df[df['likes']<60000]"
      ],
      "execution_count": null,
      "outputs": []
    },
    {
      "cell_type": "code",
      "metadata": {
        "colab": {
          "base_uri": "https://localhost:8080/",
          "height": 296
        },
        "id": "D6RASSVERoFq",
        "outputId": "7bf4258c-6a8e-4644-f2da-c980b52d21ac"
      },
      "source": [
        "sns.boxplot(x=df['likes'])"
      ],
      "execution_count": null,
      "outputs": [
        {
          "output_type": "execute_result",
          "data": {
            "text/plain": [
              "<matplotlib.axes._subplots.AxesSubplot at 0x7f6f1779d2e8>"
            ]
          },
          "metadata": {
            "tags": []
          },
          "execution_count": 43
        },
        {
          "output_type": "display_data",
          "data": {
            "image/png": "[encoded data removed]",
            "text/plain": [
              "<Figure size 432x288 with 1 Axes>"
            ]
          },
          "metadata": {
            "tags": [],
            "needs_background": "light"
          }
        }
      ]
    },
    {
      "cell_type": "code",
      "metadata": {
        "colab": {
          "base_uri": "https://localhost:8080/",
          "height": 296
        },
        "id": "P2wGp4MmRoFq",
        "outputId": "2448d6af-4987-4bf7-ff32-ab66493ed538"
      },
      "source": [
        "sns.boxplot(x=df['dislikes'])"
      ],
      "execution_count": null,
      "outputs": [
        {
          "output_type": "execute_result",
          "data": {
            "text/plain": [
              "<matplotlib.axes._subplots.AxesSubplot at 0x7f6f176fcf28>"
            ]
          },
          "metadata": {
            "tags": []
          },
          "execution_count": 44
        },
        {
          "output_type": "display_data",
          "data": {
            "image/png": "[encoded data removed]",
            "text/plain": [
              "<Figure size 432x288 with 1 Axes>"
            ]
          },
          "metadata": {
            "tags": [],
            "needs_background": "light"
          }
        }
      ]
    },
    {
      "cell_type": "code",
      "metadata": {
        "colab": {
          "base_uri": "https://localhost:8080/"
        },
        "id": "8QaKp-uGRoFq",
        "outputId": "a05cb3d4-da99-435c-db50-1139db399701"
      },
      "source": [
        "df.shape"
      ],
      "execution_count": null,
      "outputs": [
        {
          "output_type": "execute_result",
          "data": {
            "text/plain": [
              "(14564, 8)"
            ]
          },
          "metadata": {
            "tags": []
          },
          "execution_count": 45
        }
      ]
    },
    {
      "cell_type": "code",
      "metadata": {
        "colab": {
          "base_uri": "https://localhost:8080/",
          "height": 195
        },
        "id": "FC07y8qjRoFr",
        "outputId": "2b33ecf5-dbf1-4e05-ecfe-1695b36e2b20"
      },
      "source": [
        "df.head()"
      ],
      "execution_count": null,
      "outputs": [
        {
          "output_type": "execute_result",
          "data": {
            "text/html": [
              "<div>\n",
              "<style scoped>\n",
              "    .dataframe tbody tr th:only-of-type {\n",
              "        vertical-align: middle;\n",
              "    }\n",
              "\n",
              "    .dataframe tbody tr th {\n",
              "        vertical-align: top;\n",
              "    }\n",
              "\n",
              "    .dataframe thead th {\n",
              "        text-align: right;\n",
              "    }\n",
              "</style>\n",
              "<table border=\"1\" class=\"dataframe\">\n",
              "  <thead>\n",
              "    <tr style=\"text-align: right;\">\n",
              "      <th></th>\n",
              "      <th>adview</th>\n",
              "      <th>views</th>\n",
              "      <th>likes</th>\n",
              "      <th>dislikes</th>\n",
              "      <th>comment</th>\n",
              "      <th>published</th>\n",
              "      <th>duration</th>\n",
              "      <th>category</th>\n",
              "    </tr>\n",
              "  </thead>\n",
              "  <tbody>\n",
              "    <tr>\n",
              "      <th>0</th>\n",
              "      <td>40</td>\n",
              "      <td>1031602</td>\n",
              "      <td>8523</td>\n",
              "      <td>363</td>\n",
              "      <td>1095</td>\n",
              "      <td>2168</td>\n",
              "      <td>457</td>\n",
              "      <td>6</td>\n",
              "    </tr>\n",
              "    <tr>\n",
              "      <th>1</th>\n",
              "      <td>2</td>\n",
              "      <td>1707</td>\n",
              "      <td>56</td>\n",
              "      <td>2</td>\n",
              "      <td>6</td>\n",
              "      <td>2185</td>\n",
              "      <td>570</td>\n",
              "      <td>4</td>\n",
              "    </tr>\n",
              "    <tr>\n",
              "      <th>2</th>\n",
              "      <td>1</td>\n",
              "      <td>2023</td>\n",
              "      <td>25</td>\n",
              "      <td>0</td>\n",
              "      <td>2</td>\n",
              "      <td>2094</td>\n",
              "      <td>136</td>\n",
              "      <td>3</td>\n",
              "    </tr>\n",
              "    <tr>\n",
              "      <th>3</th>\n",
              "      <td>6</td>\n",
              "      <td>620860</td>\n",
              "      <td>777</td>\n",
              "      <td>161</td>\n",
              "      <td>153</td>\n",
              "      <td>2119</td>\n",
              "      <td>262</td>\n",
              "      <td>8</td>\n",
              "    </tr>\n",
              "    <tr>\n",
              "      <th>4</th>\n",
              "      <td>1</td>\n",
              "      <td>666</td>\n",
              "      <td>1</td>\n",
              "      <td>0</td>\n",
              "      <td>0</td>\n",
              "      <td>2091</td>\n",
              "      <td>31</td>\n",
              "      <td>4</td>\n",
              "    </tr>\n",
              "  </tbody>\n",
              "</table>\n",
              "</div>"
            ],
            "text/plain": [
              "   adview    views  likes  dislikes  comment  published  duration  category\n",
              "0      40  1031602   8523       363     1095       2168       457         6\n",
              "1       2     1707     56         2        6       2185       570         4\n",
              "2       1     2023     25         0        2       2094       136         3\n",
              "3       6   620860    777       161      153       2119       262         8\n",
              "4       1      666      1         0        0       2091        31         4"
            ]
          },
          "metadata": {
            "tags": []
          },
          "execution_count": 46
        }
      ]
    },
    {
      "cell_type": "code",
      "metadata": {
        "colab": {
          "base_uri": "https://localhost:8080/"
        },
        "id": "pPnXDA53RoFr",
        "outputId": "b4183368-d0f1-4d62-a923-c9ccb46e2350"
      },
      "source": [
        "df.shape"
      ],
      "execution_count": null,
      "outputs": [
        {
          "output_type": "execute_result",
          "data": {
            "text/plain": [
              "(14564, 8)"
            ]
          },
          "metadata": {
            "tags": []
          },
          "execution_count": 47
        }
      ]
    },
    {
      "cell_type": "code",
      "metadata": {
        "colab": {
          "base_uri": "https://localhost:8080/",
          "height": 284
        },
        "id": "dLH1JzHYRoFr",
        "outputId": "fcbda57e-1142-4dfd-f1a1-1a99c30f4063"
      },
      "source": [
        "df.describe()"
      ],
      "execution_count": null,
      "outputs": [
        {
          "output_type": "execute_result",
          "data": {
            "text/html": [
              "<div>\n",
              "<style scoped>\n",
              "    .dataframe tbody tr th:only-of-type {\n",
              "        vertical-align: middle;\n",
              "    }\n",
              "\n",
              "    .dataframe tbody tr th {\n",
              "        vertical-align: top;\n",
              "    }\n",
              "\n",
              "    .dataframe thead th {\n",
              "        text-align: right;\n",
              "    }\n",
              "</style>\n",
              "<table border=\"1\" class=\"dataframe\">\n",
              "  <thead>\n",
              "    <tr style=\"text-align: right;\">\n",
              "      <th></th>\n",
              "      <th>adview</th>\n",
              "      <th>views</th>\n",
              "      <th>likes</th>\n",
              "      <th>dislikes</th>\n",
              "      <th>comment</th>\n",
              "      <th>published</th>\n",
              "      <th>duration</th>\n",
              "      <th>category</th>\n",
              "    </tr>\n",
              "  </thead>\n",
              "  <tbody>\n",
              "    <tr>\n",
              "      <th>count</th>\n",
              "      <td>14564.000000</td>\n",
              "      <td>1.456400e+04</td>\n",
              "      <td>14564.000000</td>\n",
              "      <td>14564.000000</td>\n",
              "      <td>14564.000000</td>\n",
              "      <td>14564.000000</td>\n",
              "      <td>14564.000000</td>\n",
              "      <td>14564.000000</td>\n",
              "    </tr>\n",
              "    <tr>\n",
              "      <th>mean</th>\n",
              "      <td>1017.279182</td>\n",
              "      <td>6.167138e+05</td>\n",
              "      <td>2388.604848</td>\n",
              "      <td>223.626133</td>\n",
              "      <td>371.091115</td>\n",
              "      <td>1545.901881</td>\n",
              "      <td>1043.021560</td>\n",
              "      <td>4.605603</td>\n",
              "    </tr>\n",
              "    <tr>\n",
              "      <th>std</th>\n",
              "      <td>10652.103742</td>\n",
              "      <td>1.573926e+06</td>\n",
              "      <td>5608.492268</td>\n",
              "      <td>721.879551</td>\n",
              "      <td>1144.550303</td>\n",
              "      <td>583.185924</td>\n",
              "      <td>2321.587706</td>\n",
              "      <td>1.575899</td>\n",
              "    </tr>\n",
              "    <tr>\n",
              "      <th>min</th>\n",
              "      <td>1.000000</td>\n",
              "      <td>4.900000e+01</td>\n",
              "      <td>0.000000</td>\n",
              "      <td>0.000000</td>\n",
              "      <td>0.000000</td>\n",
              "      <td>0.000000</td>\n",
              "      <td>5.000000</td>\n",
              "      <td>1.000000</td>\n",
              "    </tr>\n",
              "    <tr>\n",
              "      <th>25%</th>\n",
              "      <td>1.000000</td>\n",
              "      <td>3.121750e+04</td>\n",
              "      <td>87.000000</td>\n",
              "      <td>7.000000</td>\n",
              "      <td>7.000000</td>\n",
              "      <td>1133.000000</td>\n",
              "      <td>187.000000</td>\n",
              "      <td>4.000000</td>\n",
              "    </tr>\n",
              "    <tr>\n",
              "      <th>50%</th>\n",
              "      <td>2.000000</td>\n",
              "      <td>1.563960e+05</td>\n",
              "      <td>445.500000</td>\n",
              "      <td>38.000000</td>\n",
              "      <td>45.000000</td>\n",
              "      <td>1698.000000</td>\n",
              "      <td>326.000000</td>\n",
              "      <td>4.000000</td>\n",
              "    </tr>\n",
              "    <tr>\n",
              "      <th>75%</th>\n",
              "      <td>6.000000</td>\n",
              "      <td>5.718898e+05</td>\n",
              "      <td>1819.250000</td>\n",
              "      <td>163.000000</td>\n",
              "      <td>218.000000</td>\n",
              "      <td>2064.000000</td>\n",
              "      <td>725.000000</td>\n",
              "      <td>6.000000</td>\n",
              "    </tr>\n",
              "    <tr>\n",
              "      <th>max</th>\n",
              "      <td>296161.000000</td>\n",
              "      <td>4.827714e+07</td>\n",
              "      <td>59956.000000</td>\n",
              "      <td>30235.000000</td>\n",
              "      <td>23771.000000</td>\n",
              "      <td>2383.000000</td>\n",
              "      <td>42317.000000</td>\n",
              "      <td>8.000000</td>\n",
              "    </tr>\n",
              "  </tbody>\n",
              "</table>\n",
              "</div>"
            ],
            "text/plain": [
              "              adview         views  ...      duration      category\n",
              "count   14564.000000  1.456400e+04  ...  14564.000000  14564.000000\n",
              "mean     1017.279182  6.167138e+05  ...   1043.021560      4.605603\n",
              "std     10652.103742  1.573926e+06  ...   2321.587706      1.575899\n",
              "min         1.000000  4.900000e+01  ...      5.000000      1.000000\n",
              "25%         1.000000  3.121750e+04  ...    187.000000      4.000000\n",
              "50%         2.000000  1.563960e+05  ...    326.000000      4.000000\n",
              "75%         6.000000  5.718898e+05  ...    725.000000      6.000000\n",
              "max    296161.000000  4.827714e+07  ...  42317.000000      8.000000\n",
              "\n",
              "[8 rows x 8 columns]"
            ]
          },
          "metadata": {
            "tags": []
          },
          "execution_count": 48
        }
      ]
    },
    {
      "cell_type": "markdown",
      "metadata": {
        "id": "yOOME40JRoFr"
      },
      "source": [
        "## Training Models"
      ]
    },
    {
      "cell_type": "code",
      "metadata": {
        "id": "JcANYGzkRoFr"
      },
      "source": [
        "# segegating independent and dependent variables\n",
        "x = df.drop(['adview'], axis=1)\n",
        "y = df['adview']"
      ],
      "execution_count": null,
      "outputs": []
    },
    {
      "cell_type": "code",
      "metadata": {
        "id": "5X3SuTEBRoFr"
      },
      "source": [
        "# splitting test and train data\n",
        "from sklearn.model_selection import train_test_split\n",
        "train_x,test_x,train_y,test_y = train_test_split(x,y,test_size=0.2, random_state = 42)"
      ],
      "execution_count": null,
      "outputs": []
    },
    {
      "cell_type": "code",
      "metadata": {
        "id": "yxExPRU9RoFr"
      },
      "source": [
        "# scaling all data points\n",
        "from sklearn.preprocessing import MinMaxScaler\n",
        "s = MinMaxScaler()\n",
        "train_x = s.fit_transform(train_x)\n",
        "test_x = s.fit_transform(test_x)"
      ],
      "execution_count": null,
      "outputs": []
    },
    {
      "cell_type": "code",
      "metadata": {
        "id": "0YENdBs5RoFr"
      },
      "source": [
        "# evaluation metrics used\n",
        "from sklearn import metrics   \n",
        "def print_error(test_x,test_y, model_name):\n",
        "    prediction = model_name.predict(test_x)\n",
        "    print('Mean Absolute Error:', metrics.mean_absolute_error(test_y, prediction))\n",
        "    print('Mean Squared Error:', metrics.mean_squared_error(test_y, prediction))\n",
        "    print('Root Mean Squared Error:', np.sqrt(metrics.mean_squared_error(test_y, prediction)))\n"
      ],
      "execution_count": null,
      "outputs": []
    },
    {
      "cell_type": "code",
      "metadata": {
        "colab": {
          "base_uri": "https://localhost:8080/"
        },
        "id": "HhrjNXgvRoFs",
        "outputId": "d495b2c7-3d8c-43ea-b12d-2cb1fb4e2f32"
      },
      "source": [
        "# Linear Regression\n",
        "\n",
        "from sklearn import linear_model\n",
        "linear_regression = linear_model.LinearRegression()\n",
        "linear_regression.fit(train_x, train_y)\n",
        "print_error(test_x,test_y, linear_regression)\n"
      ],
      "execution_count": null,
      "outputs": [
        {
          "output_type": "stream",
          "text": [
            "Mean Absolute Error: 2187.8962177192243\n",
            "Mean Squared Error: 164508551.9202119\n",
            "Root Mean Squared Error: 12826.088722607992\n"
          ],
          "name": "stdout"
        }
      ]
    },
    {
      "cell_type": "code",
      "metadata": {
        "colab": {
          "base_uri": "https://localhost:8080/"
        },
        "id": "bWNO3v0xRoFs",
        "outputId": "c2c94950-5559-43df-b037-151c39384480"
      },
      "source": [
        "# Support Vector Regressor\n",
        "\n",
        "from sklearn.svm import SVR\n",
        "supportvector_regressor = SVR()\n",
        "supportvector_regressor.fit(train_x,train_y)\n",
        "print_error(test_x,test_y, supportvector_regressor)"
      ],
      "execution_count": null,
      "outputs": [
        {
          "output_type": "stream",
          "text": [
            "Mean Absolute Error: 1176.4357489260997\n",
            "Mean Squared Error: 166501604.53615162\n",
            "Root Mean Squared Error: 12903.550074927118\n"
          ],
          "name": "stdout"
        }
      ]
    },
    {
      "cell_type": "code",
      "metadata": {
        "colab": {
          "base_uri": "https://localhost:8080/"
        },
        "id": "OvDBt3YHTkJe",
        "outputId": "61ab24a2-8369-4bc9-94f7-92b0af21898e"
      },
      "source": [
        "supportvector_regressor.score(train_x,train_y)"
      ],
      "execution_count": null,
      "outputs": [
        {
          "output_type": "execute_result",
          "data": {
            "text/plain": [
              "-0.00945911519040954"
            ]
          },
          "metadata": {
            "tags": []
          },
          "execution_count": 55
        }
      ]
    },
    {
      "cell_type": "code",
      "metadata": {
        "colab": {
          "base_uri": "https://localhost:8080/"
        },
        "id": "12loQqy4Tk9c",
        "outputId": "572b88d5-f3d7-4763-87a8-4cc7cd575c02"
      },
      "source": [
        "supportvector_regressor.score(test_x,test_y)"
      ],
      "execution_count": null,
      "outputs": [
        {
          "output_type": "execute_result",
          "data": {
            "text/plain": [
              "-0.008364657413969523"
            ]
          },
          "metadata": {
            "tags": []
          },
          "execution_count": 56
        }
      ]
    },
    {
      "cell_type": "code",
      "metadata": {
        "colab": {
          "base_uri": "https://localhost:8080/"
        },
        "id": "78e9Gmi6RoFs",
        "outputId": "779e2264-31fc-45c3-8b29-209e92a7eae2"
      },
      "source": [
        "# Decision Tree Regressor\n",
        "\n",
        "from sklearn.tree import DecisionTreeRegressor\n",
        "decision_tree = DecisionTreeRegressor()\n",
        "decision_tree.fit(train_x, train_y)\n",
        "print_error(test_x,test_y, decision_tree)"
      ],
      "execution_count": null,
      "outputs": [
        {
          "output_type": "stream",
          "text": [
            "Mean Absolute Error: 2379.031239272228\n",
            "Mean Squared Error: 279910027.47545487\n",
            "Root Mean Squared Error: 16730.51187129237\n"
          ],
          "name": "stdout"
        }
      ]
    },
    {
      "cell_type": "code",
      "metadata": {
        "colab": {
          "base_uri": "https://localhost:8080/"
        },
        "id": "4M2CTR9WTVhJ",
        "outputId": "ac0d6ebb-3417-4eb6-859b-86974a13135e"
      },
      "source": [
        "decision_tree.score(train_x,train_y)"
      ],
      "execution_count": null,
      "outputs": [
        {
          "output_type": "execute_result",
          "data": {
            "text/plain": [
              "1.0"
            ]
          },
          "metadata": {
            "tags": []
          },
          "execution_count": 58
        }
      ]
    },
    {
      "cell_type": "code",
      "metadata": {
        "colab": {
          "base_uri": "https://localhost:8080/"
        },
        "id": "4NVKYv9jTMry",
        "outputId": "531331ad-2112-4f72-928b-a5541c8ece17"
      },
      "source": [
        "decision_tree.score(test_x,test_y)"
      ],
      "execution_count": null,
      "outputs": [
        {
          "output_type": "execute_result",
          "data": {
            "text/plain": [
              "-0.6951871409788011"
            ]
          },
          "metadata": {
            "tags": []
          },
          "execution_count": 59
        }
      ]
    },
    {
      "cell_type": "code",
      "metadata": {
        "colab": {
          "base_uri": "https://localhost:8080/"
        },
        "id": "hPcMtw9URoFs",
        "outputId": "c2b9d46c-5eae-47c0-af2e-fc345c542690"
      },
      "source": [
        "# Random Forest Regressor\n",
        "\n",
        "from sklearn.ensemble import RandomForestRegressor\n",
        "n_estimators = 400\n",
        "max_depth = 28\n",
        "min_samples_split=15\n",
        "min_samples_leaf=3\n",
        "random_forest = RandomForestRegressor(n_estimators = n_estimators, max_depth = max_depth, min_samples_split=min_samples_split,min_samples_leaf=min_samples_leaf)\n",
        "random_forest.fit(train_x,train_y)\n",
        "print_error(test_x,test_y, random_forest)"
      ],
      "execution_count": null,
      "outputs": [
        {
          "output_type": "stream",
          "text": [
            "Mean Absolute Error: 1706.1171398873291\n",
            "Mean Squared Error: 117181789.55364934\n",
            "Root Mean Squared Error: 10825.053789873256\n"
          ],
          "name": "stdout"
        }
      ]
    },
    {
      "cell_type": "code",
      "metadata": {
        "colab": {
          "base_uri": "https://localhost:8080/"
        },
        "id": "fVUhWAv8UXak",
        "outputId": "d8b0500b-3efc-403b-ff25-d2f145f42854"
      },
      "source": [
        "random_forest.score(train_x,train_y)"
      ],
      "execution_count": null,
      "outputs": [
        {
          "output_type": "execute_result",
          "data": {
            "text/plain": [
              "0.49542220631825046"
            ]
          },
          "metadata": {
            "tags": []
          },
          "execution_count": 61
        }
      ]
    },
    {
      "cell_type": "code",
      "metadata": {
        "colab": {
          "base_uri": "https://localhost:8080/"
        },
        "id": "M7jnULTYUYWY",
        "outputId": "eed5f59f-dbfa-42c9-eb18-26bce0099ca0"
      },
      "source": [
        "random_forest.score(test_x,test_y)"
      ],
      "execution_count": null,
      "outputs": [
        {
          "output_type": "execute_result",
          "data": {
            "text/plain": [
              "0.2903253070287044"
            ]
          },
          "metadata": {
            "tags": []
          },
          "execution_count": 62
        }
      ]
    },
    {
      "cell_type": "code",
      "metadata": {
        "id": "uW5-mo16RoFs"
      },
      "source": [
        "import keras\n",
        "from keras.layers import Dense"
      ],
      "execution_count": null,
      "outputs": []
    },
    {
      "cell_type": "code",
      "metadata": {
        "id": "qlPsTGGyN2P2"
      },
      "source": [
        "ann = keras.models.Sequential([\n",
        "                               Dense(7, activation=\"relu\",\n",
        "                               input_shape=train_x.shape[1:]),\n",
        "                               Dense(7,activation=\"relu\"),\n",
        "                               Dense(1)\n",
        "                               ])\n",
        "optimizer=keras.optimizers.Adam()\n",
        "loss=keras.losses.mean_squared_error\n",
        "ann.compile(optimizer=optimizer,loss=loss,metrics=[\"mean_squared_error\"])"
      ],
      "execution_count": null,
      "outputs": []
    },
    {
      "cell_type": "code",
      "metadata": {
        "colab": {
          "base_uri": "https://localhost:8080/"
        },
        "id": "L11amqepOyNm",
        "outputId": "63ce3d64-a237-47e6-aadf-80dcc60e4444"
      },
      "source": [
        "history=ann.fit(train_x,train_y,epochs=100)\n",
        "ann.summary()\n",
        "print_error(test_x,test_y,ann)"
      ],
      "execution_count": null,
      "outputs": [
        {
          "output_type": "stream",
          "text": [
            "Epoch 1/100\n",
            "365/365 [==============================] - 0s 904us/step - loss: 101488112.0000 - mean_squared_error: 101488112.0000\n",
            "Epoch 2/100\n",
            "365/365 [==============================] - 0s 878us/step - loss: 101473760.0000 - mean_squared_error: 101473760.0000\n",
            "Epoch 3/100\n",
            "365/365 [==============================] - 0s 897us/step - loss: 101426664.0000 - mean_squared_error: 101426664.0000\n",
            "Epoch 4/100\n",
            "365/365 [==============================] - 0s 876us/step - loss: 101334584.0000 - mean_squared_error: 101334584.0000\n",
            "Epoch 5/100\n",
            "365/365 [==============================] - 0s 869us/step - loss: 101204592.0000 - mean_squared_error: 101204592.0000\n",
            "Epoch 6/100\n",
            "365/365 [==============================] - 0s 850us/step - loss: 101046728.0000 - mean_squared_error: 101046728.0000\n",
            "Epoch 7/100\n",
            "365/365 [==============================] - 0s 825us/step - loss: 100892688.0000 - mean_squared_error: 100892688.0000\n",
            "Epoch 8/100\n",
            "365/365 [==============================] - 0s 893us/step - loss: 100758624.0000 - mean_squared_error: 100758624.0000\n",
            "Epoch 9/100\n",
            "365/365 [==============================] - 0s 881us/step - loss: 100649584.0000 - mean_squared_error: 100649584.0000\n",
            "Epoch 10/100\n",
            "365/365 [==============================] - 0s 862us/step - loss: 100568496.0000 - mean_squared_error: 100568496.0000\n",
            "Epoch 11/100\n",
            "365/365 [==============================] - 0s 878us/step - loss: 100511928.0000 - mean_squared_error: 100511928.0000\n",
            "Epoch 12/100\n",
            "365/365 [==============================] - 0s 857us/step - loss: 100474240.0000 - mean_squared_error: 100474240.0000\n",
            "Epoch 13/100\n",
            "365/365 [==============================] - 0s 852us/step - loss: 100446344.0000 - mean_squared_error: 100446344.0000\n",
            "Epoch 14/100\n",
            "365/365 [==============================] - 0s 879us/step - loss: 100427648.0000 - mean_squared_error: 100427648.0000\n",
            "Epoch 15/100\n",
            "365/365 [==============================] - 0s 867us/step - loss: 100412664.0000 - mean_squared_error: 100412664.0000\n",
            "Epoch 16/100\n",
            "365/365 [==============================] - 0s 857us/step - loss: 100402896.0000 - mean_squared_error: 100402896.0000\n",
            "Epoch 17/100\n",
            "365/365 [==============================] - 0s 854us/step - loss: 100392632.0000 - mean_squared_error: 100392632.0000\n",
            "Epoch 18/100\n",
            "365/365 [==============================] - 0s 848us/step - loss: 100386256.0000 - mean_squared_error: 100386256.0000\n",
            "Epoch 19/100\n",
            "365/365 [==============================] - 0s 906us/step - loss: 100380272.0000 - mean_squared_error: 100380272.0000\n",
            "Epoch 20/100\n",
            "365/365 [==============================] - 0s 910us/step - loss: 100375144.0000 - mean_squared_error: 100375144.0000\n",
            "Epoch 21/100\n",
            "365/365 [==============================] - 0s 844us/step - loss: 100370240.0000 - mean_squared_error: 100370240.0000\n",
            "Epoch 22/100\n",
            "365/365 [==============================] - 0s 868us/step - loss: 100365952.0000 - mean_squared_error: 100365952.0000\n",
            "Epoch 23/100\n",
            "365/365 [==============================] - 0s 870us/step - loss: 100361560.0000 - mean_squared_error: 100361560.0000\n",
            "Epoch 24/100\n",
            "365/365 [==============================] - 0s 861us/step - loss: 100357416.0000 - mean_squared_error: 100357416.0000\n",
            "Epoch 25/100\n",
            "365/365 [==============================] - 0s 873us/step - loss: 100353040.0000 - mean_squared_error: 100353040.0000\n",
            "Epoch 26/100\n",
            "365/365 [==============================] - 0s 894us/step - loss: 100349168.0000 - mean_squared_error: 100349168.0000\n",
            "Epoch 27/100\n",
            "365/365 [==============================] - 0s 855us/step - loss: 100344904.0000 - mean_squared_error: 100344904.0000\n",
            "Epoch 28/100\n",
            "365/365 [==============================] - 0s 863us/step - loss: 100340872.0000 - mean_squared_error: 100340872.0000\n",
            "Epoch 29/100\n",
            "365/365 [==============================] - 0s 865us/step - loss: 100337104.0000 - mean_squared_error: 100337104.0000\n",
            "Epoch 30/100\n",
            "365/365 [==============================] - 0s 882us/step - loss: 100333904.0000 - mean_squared_error: 100333904.0000\n",
            "Epoch 31/100\n",
            "365/365 [==============================] - 0s 901us/step - loss: 100328456.0000 - mean_squared_error: 100328456.0000\n",
            "Epoch 32/100\n",
            "365/365 [==============================] - 0s 875us/step - loss: 100324632.0000 - mean_squared_error: 100324632.0000\n",
            "Epoch 33/100\n",
            "365/365 [==============================] - 0s 879us/step - loss: 100321336.0000 - mean_squared_error: 100321336.0000\n",
            "Epoch 34/100\n",
            "365/365 [==============================] - 0s 897us/step - loss: 100316512.0000 - mean_squared_error: 100316512.0000\n",
            "Epoch 35/100\n",
            "365/365 [==============================] - 0s 858us/step - loss: 100312640.0000 - mean_squared_error: 100312640.0000\n",
            "Epoch 36/100\n",
            "365/365 [==============================] - 0s 875us/step - loss: 100309064.0000 - mean_squared_error: 100309064.0000\n",
            "Epoch 37/100\n",
            "365/365 [==============================] - 0s 840us/step - loss: 100304024.0000 - mean_squared_error: 100304024.0000\n",
            "Epoch 38/100\n",
            "365/365 [==============================] - 0s 854us/step - loss: 100300160.0000 - mean_squared_error: 100300160.0000\n",
            "Epoch 39/100\n",
            "365/365 [==============================] - 0s 903us/step - loss: 100298472.0000 - mean_squared_error: 100298472.0000\n",
            "Epoch 40/100\n",
            "365/365 [==============================] - 0s 858us/step - loss: 100292424.0000 - mean_squared_error: 100292424.0000\n",
            "Epoch 41/100\n",
            "365/365 [==============================] - 0s 910us/step - loss: 100288376.0000 - mean_squared_error: 100288376.0000\n",
            "Epoch 42/100\n",
            "365/365 [==============================] - 0s 882us/step - loss: 100284512.0000 - mean_squared_error: 100284512.0000\n",
            "Epoch 43/100\n",
            "365/365 [==============================] - 0s 873us/step - loss: 100279256.0000 - mean_squared_error: 100279256.0000\n",
            "Epoch 44/100\n",
            "365/365 [==============================] - 0s 864us/step - loss: 100275696.0000 - mean_squared_error: 100275696.0000\n",
            "Epoch 45/100\n",
            "365/365 [==============================] - 0s 880us/step - loss: 100272328.0000 - mean_squared_error: 100272328.0000\n",
            "Epoch 46/100\n",
            "365/365 [==============================] - 0s 902us/step - loss: 100267528.0000 - mean_squared_error: 100267528.0000\n",
            "Epoch 47/100\n",
            "365/365 [==============================] - 0s 875us/step - loss: 100263520.0000 - mean_squared_error: 100263520.0000\n",
            "Epoch 48/100\n",
            "365/365 [==============================] - 0s 926us/step - loss: 100258760.0000 - mean_squared_error: 100258760.0000\n",
            "Epoch 49/100\n",
            "365/365 [==============================] - 0s 880us/step - loss: 100255152.0000 - mean_squared_error: 100255152.0000\n",
            "Epoch 50/100\n",
            "365/365 [==============================] - 0s 892us/step - loss: 100250952.0000 - mean_squared_error: 100250952.0000\n",
            "Epoch 51/100\n",
            "365/365 [==============================] - 0s 908us/step - loss: 100246408.0000 - mean_squared_error: 100246408.0000\n",
            "Epoch 52/100\n",
            "365/365 [==============================] - 0s 963us/step - loss: 100242920.0000 - mean_squared_error: 100242920.0000\n",
            "Epoch 53/100\n",
            "365/365 [==============================] - 0s 883us/step - loss: 100237648.0000 - mean_squared_error: 100237648.0000\n",
            "Epoch 54/100\n",
            "365/365 [==============================] - 0s 894us/step - loss: 100233776.0000 - mean_squared_error: 100233776.0000\n",
            "Epoch 55/100\n",
            "365/365 [==============================] - 0s 907us/step - loss: 100229232.0000 - mean_squared_error: 100229232.0000\n",
            "Epoch 56/100\n",
            "365/365 [==============================] - 0s 891us/step - loss: 100224744.0000 - mean_squared_error: 100224744.0000\n",
            "Epoch 57/100\n",
            "365/365 [==============================] - 0s 893us/step - loss: 100220656.0000 - mean_squared_error: 100220656.0000\n",
            "Epoch 58/100\n",
            "365/365 [==============================] - 0s 889us/step - loss: 100215856.0000 - mean_squared_error: 100215856.0000\n",
            "Epoch 59/100\n",
            "365/365 [==============================] - 0s 876us/step - loss: 100213096.0000 - mean_squared_error: 100213096.0000\n",
            "Epoch 60/100\n",
            "365/365 [==============================] - 0s 882us/step - loss: 100207936.0000 - mean_squared_error: 100207936.0000\n",
            "Epoch 61/100\n",
            "365/365 [==============================] - 0s 907us/step - loss: 100202240.0000 - mean_squared_error: 100202240.0000\n",
            "Epoch 62/100\n",
            "365/365 [==============================] - 0s 882us/step - loss: 100197616.0000 - mean_squared_error: 100197616.0000\n",
            "Epoch 63/100\n",
            "365/365 [==============================] - 0s 887us/step - loss: 100193472.0000 - mean_squared_error: 100193472.0000\n",
            "Epoch 64/100\n",
            "365/365 [==============================] - 0s 897us/step - loss: 100189272.0000 - mean_squared_error: 100189272.0000\n",
            "Epoch 65/100\n",
            "365/365 [==============================] - 0s 888us/step - loss: 100184568.0000 - mean_squared_error: 100184568.0000\n",
            "Epoch 66/100\n",
            "365/365 [==============================] - 0s 871us/step - loss: 100179504.0000 - mean_squared_error: 100179504.0000\n",
            "Epoch 67/100\n",
            "365/365 [==============================] - 0s 945us/step - loss: 100175128.0000 - mean_squared_error: 100175128.0000\n",
            "Epoch 68/100\n",
            "365/365 [==============================] - 0s 873us/step - loss: 100171456.0000 - mean_squared_error: 100171456.0000\n",
            "Epoch 69/100\n",
            "365/365 [==============================] - 0s 874us/step - loss: 100166000.0000 - mean_squared_error: 100166000.0000\n",
            "Epoch 70/100\n",
            "365/365 [==============================] - 0s 913us/step - loss: 100162152.0000 - mean_squared_error: 100162152.0000\n",
            "Epoch 71/100\n",
            "365/365 [==============================] - 0s 883us/step - loss: 100156976.0000 - mean_squared_error: 100156976.0000\n",
            "Epoch 72/100\n",
            "365/365 [==============================] - 0s 916us/step - loss: 100153352.0000 - mean_squared_error: 100153352.0000\n",
            "Epoch 73/100\n",
            "365/365 [==============================] - 0s 877us/step - loss: 100147960.0000 - mean_squared_error: 100147960.0000\n",
            "Epoch 74/100\n",
            "365/365 [==============================] - 0s 918us/step - loss: 100143072.0000 - mean_squared_error: 100143072.0000\n",
            "Epoch 75/100\n",
            "365/365 [==============================] - 0s 856us/step - loss: 100138904.0000 - mean_squared_error: 100138904.0000\n",
            "Epoch 76/100\n",
            "365/365 [==============================] - 0s 936us/step - loss: 100133944.0000 - mean_squared_error: 100133944.0000\n",
            "Epoch 77/100\n",
            "365/365 [==============================] - 0s 861us/step - loss: 100128728.0000 - mean_squared_error: 100128728.0000\n",
            "Epoch 78/100\n",
            "365/365 [==============================] - 0s 922us/step - loss: 100124584.0000 - mean_squared_error: 100124584.0000\n",
            "Epoch 79/100\n",
            "365/365 [==============================] - 0s 881us/step - loss: 100119160.0000 - mean_squared_error: 100119160.0000\n",
            "Epoch 80/100\n",
            "365/365 [==============================] - 0s 909us/step - loss: 100113992.0000 - mean_squared_error: 100113992.0000\n",
            "Epoch 81/100\n",
            "365/365 [==============================] - 0s 861us/step - loss: 100109784.0000 - mean_squared_error: 100109784.0000\n",
            "Epoch 82/100\n",
            "365/365 [==============================] - 0s 938us/step - loss: 100105560.0000 - mean_squared_error: 100105560.0000\n",
            "Epoch 83/100\n",
            "365/365 [==============================] - 0s 890us/step - loss: 100099288.0000 - mean_squared_error: 100099288.0000\n",
            "Epoch 84/100\n",
            "365/365 [==============================] - 0s 898us/step - loss: 100094704.0000 - mean_squared_error: 100094704.0000\n",
            "Epoch 85/100\n",
            "365/365 [==============================] - 0s 920us/step - loss: 100090656.0000 - mean_squared_error: 100090656.0000\n",
            "Epoch 86/100\n",
            "365/365 [==============================] - 0s 881us/step - loss: 100085344.0000 - mean_squared_error: 100085344.0000\n",
            "Epoch 87/100\n",
            "365/365 [==============================] - 0s 919us/step - loss: 100080824.0000 - mean_squared_error: 100080824.0000\n",
            "Epoch 88/100\n",
            "365/365 [==============================] - 0s 938us/step - loss: 100075232.0000 - mean_squared_error: 100075232.0000\n",
            "Epoch 89/100\n",
            "365/365 [==============================] - 0s 859us/step - loss: 100070080.0000 - mean_squared_error: 100070080.0000\n",
            "Epoch 90/100\n",
            "365/365 [==============================] - 0s 884us/step - loss: 100064688.0000 - mean_squared_error: 100064688.0000\n",
            "Epoch 91/100\n",
            "365/365 [==============================] - 0s 879us/step - loss: 100060440.0000 - mean_squared_error: 100060440.0000\n",
            "Epoch 92/100\n",
            "365/365 [==============================] - 0s 887us/step - loss: 100055208.0000 - mean_squared_error: 100055208.0000\n",
            "Epoch 93/100\n",
            "365/365 [==============================] - 0s 921us/step - loss: 100049808.0000 - mean_squared_error: 100049808.0000\n",
            "Epoch 94/100\n",
            "365/365 [==============================] - 0s 897us/step - loss: 100044824.0000 - mean_squared_error: 100044824.0000\n",
            "Epoch 95/100\n",
            "365/365 [==============================] - 0s 915us/step - loss: 100039000.0000 - mean_squared_error: 100039000.0000\n",
            "Epoch 96/100\n",
            "365/365 [==============================] - 0s 914us/step - loss: 100033368.0000 - mean_squared_error: 100033368.0000\n",
            "Epoch 97/100\n",
            "365/365 [==============================] - 0s 906us/step - loss: 100029088.0000 - mean_squared_error: 100029088.0000\n",
            "Epoch 98/100\n",
            "365/365 [==============================] - 0s 907us/step - loss: 100023304.0000 - mean_squared_error: 100023304.0000\n",
            "Epoch 99/100\n",
            "365/365 [==============================] - 0s 928us/step - loss: 100019048.0000 - mean_squared_error: 100019048.0000\n",
            "Epoch 100/100\n",
            "365/365 [==============================] - 0s 904us/step - loss: 100013696.0000 - mean_squared_error: 100013696.0000\n",
            "Model: \"sequential\"\n",
            "_________________________________________________________________\n",
            "Layer (type)                 Output Shape              Param #   \n",
            "=================================================================\n",
            "dense (Dense)                (None, 7)                 56        \n",
            "_________________________________________________________________\n",
            "dense_1 (Dense)              (None, 7)                 56        \n",
            "_________________________________________________________________\n",
            "dense_2 (Dense)              (None, 1)                 8         \n",
            "=================================================================\n",
            "Total params: 120\n",
            "Trainable params: 120\n",
            "Non-trainable params: 0\n",
            "_________________________________________________________________\n",
            "Mean Absolute Error: 2096.98764782037\n",
            "Mean Squared Error: 164609581.9604509\n",
            "Root Mean Squared Error: 12830.026576763234\n"
          ],
          "name": "stdout"
        }
      ]
    },
    {
      "cell_type": "markdown",
      "metadata": {
        "id": "fJNEK_1paeRJ"
      },
      "source": [
        "## Saving Models"
      ]
    },
    {
      "cell_type": "code",
      "metadata": {
        "colab": {
          "base_uri": "https://localhost:8080/"
        },
        "id": "aZ6dOY73X2C7",
        "outputId": "f6052955-0c8f-40b3-ac21-b995b38cffa5"
      },
      "source": [
        "import joblib\n",
        "joblib.dump(linear_regression, \"linearReg_youtubeadview.pkl\")"
      ],
      "execution_count": null,
      "outputs": [
        {
          "output_type": "execute_result",
          "data": {
            "text/plain": [
              "['linearReg_youtubeadview.pkl']"
            ]
          },
          "metadata": {
            "tags": []
          },
          "execution_count": 66
        }
      ]
    },
    {
      "cell_type": "code",
      "metadata": {
        "colab": {
          "base_uri": "https://localhost:8080/"
        },
        "id": "vTOT_sKtYLuj",
        "outputId": "b2a67d64-82a7-46a0-d713-f2ed9670ba9a"
      },
      "source": [
        "import joblib\n",
        "joblib.dump(supportvector_regressor, \"svr_youtubeadview.pkl\")"
      ],
      "execution_count": null,
      "outputs": [
        {
          "output_type": "execute_result",
          "data": {
            "text/plain": [
              "['svr_youtubeadview.pkl']"
            ]
          },
          "metadata": {
            "tags": []
          },
          "execution_count": 67
        }
      ]
    },
    {
      "cell_type": "code",
      "metadata": {
        "colab": {
          "base_uri": "https://localhost:8080/"
        },
        "id": "a87PZpMpYeA6",
        "outputId": "3486dc34-0a39-4b1e-8c4e-7dc373a0bf2a"
      },
      "source": [
        "import joblib\n",
        "joblib.dump(decision_tree, \"decisiontree_youtubeadview.pkl\")"
      ],
      "execution_count": null,
      "outputs": [
        {
          "output_type": "execute_result",
          "data": {
            "text/plain": [
              "['decisiontree_youtubeadview.pkl']"
            ]
          },
          "metadata": {
            "tags": []
          },
          "execution_count": 68
        }
      ]
    },
    {
      "cell_type": "code",
      "metadata": {
        "colab": {
          "base_uri": "https://localhost:8080/"
        },
        "id": "vuDbHyX2Y0Dz",
        "outputId": "f72a4e6b-c9b9-4c09-f492-2dd2a7c37f62"
      },
      "source": [
        "import joblib\n",
        "joblib.dump(random_forest, \"randomForest_youtubeadview.pkl\")"
      ],
      "execution_count": null,
      "outputs": [
        {
          "output_type": "execute_result",
          "data": {
            "text/plain": [
              "['randomForest_youtubeadview.pkl']"
            ]
          },
          "metadata": {
            "tags": []
          },
          "execution_count": 69
        }
      ]
    },
    {
      "cell_type": "code",
      "metadata": {
        "id": "utFwShZBZFli"
      },
      "source": [
        "ann.save(\"ann_youtubeadview.h5\")"
      ],
      "execution_count": null,
      "outputs": []
    }
  ]
}